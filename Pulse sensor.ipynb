{
 "cells": [
  {
   "cell_type": "markdown",
   "metadata": {},
   "source": [
    "## Preprocessing and feature extraction"
   ]
  },
  {
   "cell_type": "code",
   "execution_count": 1,
   "metadata": {},
   "outputs": [
    {
     "data": {
      "text/html": [
       "<div>\n",
       "<style scoped>\n",
       "    .dataframe tbody tr th:only-of-type {\n",
       "        vertical-align: middle;\n",
       "    }\n",
       "\n",
       "    .dataframe tbody tr th {\n",
       "        vertical-align: top;\n",
       "    }\n",
       "\n",
       "    .dataframe thead th {\n",
       "        text-align: right;\n",
       "    }\n",
       "</style>\n",
       "<table border=\"1\" class=\"dataframe\">\n",
       "  <thead>\n",
       "    <tr style=\"text-align: right;\">\n",
       "      <th></th>\n",
       "      <th>HR</th>\n",
       "      <th>Attentive</th>\n",
       "      <th>difference</th>\n",
       "      <th>rollmean</th>\n",
       "      <th>rollmedian</th>\n",
       "      <th>rollstd</th>\n",
       "      <th>rollMax</th>\n",
       "      <th>rollMin</th>\n",
       "      <th>range</th>\n",
       "    </tr>\n",
       "    <tr>\n",
       "      <th>Time</th>\n",
       "      <th></th>\n",
       "      <th></th>\n",
       "      <th></th>\n",
       "      <th></th>\n",
       "      <th></th>\n",
       "      <th></th>\n",
       "      <th></th>\n",
       "      <th></th>\n",
       "      <th></th>\n",
       "    </tr>\n",
       "  </thead>\n",
       "  <tbody>\n",
       "    <tr>\n",
       "      <th>2022-02-26 13:00:57</th>\n",
       "      <td>81.0</td>\n",
       "      <td>Yes</td>\n",
       "      <td>3.0</td>\n",
       "      <td>79.500000</td>\n",
       "      <td>79.5</td>\n",
       "      <td>2.121320</td>\n",
       "      <td>81.0</td>\n",
       "      <td>78.0</td>\n",
       "      <td>3.0</td>\n",
       "    </tr>\n",
       "    <tr>\n",
       "      <th>2022-02-26 13:00:58</th>\n",
       "      <td>84.0</td>\n",
       "      <td>Yes</td>\n",
       "      <td>3.0</td>\n",
       "      <td>81.000000</td>\n",
       "      <td>81.0</td>\n",
       "      <td>3.000000</td>\n",
       "      <td>84.0</td>\n",
       "      <td>78.0</td>\n",
       "      <td>6.0</td>\n",
       "    </tr>\n",
       "    <tr>\n",
       "      <th>2022-02-26 13:00:59</th>\n",
       "      <td>90.0</td>\n",
       "      <td>Yes</td>\n",
       "      <td>6.0</td>\n",
       "      <td>83.250000</td>\n",
       "      <td>82.5</td>\n",
       "      <td>5.123475</td>\n",
       "      <td>90.0</td>\n",
       "      <td>78.0</td>\n",
       "      <td>12.0</td>\n",
       "    </tr>\n",
       "    <tr>\n",
       "      <th>2022-02-26 13:01:00</th>\n",
       "      <td>90.0</td>\n",
       "      <td>Yes</td>\n",
       "      <td>0.0</td>\n",
       "      <td>84.600000</td>\n",
       "      <td>84.0</td>\n",
       "      <td>5.366563</td>\n",
       "      <td>90.0</td>\n",
       "      <td>78.0</td>\n",
       "      <td>12.0</td>\n",
       "    </tr>\n",
       "    <tr>\n",
       "      <th>2022-02-26 13:01:01</th>\n",
       "      <td>92.0</td>\n",
       "      <td>Yes</td>\n",
       "      <td>2.0</td>\n",
       "      <td>85.833333</td>\n",
       "      <td>87.0</td>\n",
       "      <td>5.671567</td>\n",
       "      <td>92.0</td>\n",
       "      <td>78.0</td>\n",
       "      <td>14.0</td>\n",
       "    </tr>\n",
       "    <tr>\n",
       "      <th>...</th>\n",
       "      <td>...</td>\n",
       "      <td>...</td>\n",
       "      <td>...</td>\n",
       "      <td>...</td>\n",
       "      <td>...</td>\n",
       "      <td>...</td>\n",
       "      <td>...</td>\n",
       "      <td>...</td>\n",
       "      <td>...</td>\n",
       "    </tr>\n",
       "    <tr>\n",
       "      <th>2022-02-26 20:03:05</th>\n",
       "      <td>80.0</td>\n",
       "      <td>Yes</td>\n",
       "      <td>3.0</td>\n",
       "      <td>82.983333</td>\n",
       "      <td>81.0</td>\n",
       "      <td>6.347271</td>\n",
       "      <td>94.0</td>\n",
       "      <td>74.0</td>\n",
       "      <td>20.0</td>\n",
       "    </tr>\n",
       "    <tr>\n",
       "      <th>2022-02-26 20:03:06</th>\n",
       "      <td>87.0</td>\n",
       "      <td>Yes</td>\n",
       "      <td>7.0</td>\n",
       "      <td>82.950000</td>\n",
       "      <td>81.0</td>\n",
       "      <td>6.320333</td>\n",
       "      <td>94.0</td>\n",
       "      <td>74.0</td>\n",
       "      <td>20.0</td>\n",
       "    </tr>\n",
       "    <tr>\n",
       "      <th>2022-02-26 20:03:07</th>\n",
       "      <td>86.0</td>\n",
       "      <td>Yes</td>\n",
       "      <td>-1.0</td>\n",
       "      <td>82.916667</td>\n",
       "      <td>81.0</td>\n",
       "      <td>6.298484</td>\n",
       "      <td>94.0</td>\n",
       "      <td>74.0</td>\n",
       "      <td>20.0</td>\n",
       "    </tr>\n",
       "    <tr>\n",
       "      <th>2022-02-26 20:03:08</th>\n",
       "      <td>86.0</td>\n",
       "      <td>Yes</td>\n",
       "      <td>0.0</td>\n",
       "      <td>82.900000</td>\n",
       "      <td>81.0</td>\n",
       "      <td>6.288812</td>\n",
       "      <td>94.0</td>\n",
       "      <td>74.0</td>\n",
       "      <td>20.0</td>\n",
       "    </tr>\n",
       "    <tr>\n",
       "      <th>2022-02-26 20:03:09</th>\n",
       "      <td>85.0</td>\n",
       "      <td>Yes</td>\n",
       "      <td>-1.0</td>\n",
       "      <td>82.866667</td>\n",
       "      <td>81.0</td>\n",
       "      <td>6.271990</td>\n",
       "      <td>94.0</td>\n",
       "      <td>74.0</td>\n",
       "      <td>20.0</td>\n",
       "    </tr>\n",
       "  </tbody>\n",
       "</table>\n",
       "<p>54699 rows × 9 columns</p>\n",
       "</div>"
      ],
      "text/plain": [
       "                       HR Attentive  difference   rollmean  rollmedian  \\\n",
       "Time                                                                     \n",
       "2022-02-26 13:00:57  81.0       Yes         3.0  79.500000        79.5   \n",
       "2022-02-26 13:00:58  84.0       Yes         3.0  81.000000        81.0   \n",
       "2022-02-26 13:00:59  90.0       Yes         6.0  83.250000        82.5   \n",
       "2022-02-26 13:01:00  90.0       Yes         0.0  84.600000        84.0   \n",
       "2022-02-26 13:01:01  92.0       Yes         2.0  85.833333        87.0   \n",
       "...                   ...       ...         ...        ...         ...   \n",
       "2022-02-26 20:03:05  80.0       Yes         3.0  82.983333        81.0   \n",
       "2022-02-26 20:03:06  87.0       Yes         7.0  82.950000        81.0   \n",
       "2022-02-26 20:03:07  86.0       Yes        -1.0  82.916667        81.0   \n",
       "2022-02-26 20:03:08  86.0       Yes         0.0  82.900000        81.0   \n",
       "2022-02-26 20:03:09  85.0       Yes        -1.0  82.866667        81.0   \n",
       "\n",
       "                      rollstd  rollMax  rollMin  range  \n",
       "Time                                                    \n",
       "2022-02-26 13:00:57  2.121320     81.0     78.0    3.0  \n",
       "2022-02-26 13:00:58  3.000000     84.0     78.0    6.0  \n",
       "2022-02-26 13:00:59  5.123475     90.0     78.0   12.0  \n",
       "2022-02-26 13:01:00  5.366563     90.0     78.0   12.0  \n",
       "2022-02-26 13:01:01  5.671567     92.0     78.0   14.0  \n",
       "...                       ...      ...      ...    ...  \n",
       "2022-02-26 20:03:05  6.347271     94.0     74.0   20.0  \n",
       "2022-02-26 20:03:06  6.320333     94.0     74.0   20.0  \n",
       "2022-02-26 20:03:07  6.298484     94.0     74.0   20.0  \n",
       "2022-02-26 20:03:08  6.288812     94.0     74.0   20.0  \n",
       "2022-02-26 20:03:09  6.271990     94.0     74.0   20.0  \n",
       "\n",
       "[54699 rows x 9 columns]"
      ]
     },
     "execution_count": 1,
     "metadata": {},
     "output_type": "execute_result"
    }
   ],
   "source": [
    "import pandas as pd\n",
    "import numpy as np\n",
    "import seaborn as sns\n",
    "from scipy import stats\n",
    "import pickle\n",
    "from sklearn.linear_model import LogisticRegression\n",
    "from sklearn.svm import SVC\n",
    "from sklearn.neighbors import KNeighborsClassifier\n",
    "from sklearn.ensemble import RandomForestClassifier\n",
    "from sklearn.neural_network import MLPClassifier\n",
    "from sklearn.model_selection import cross_val_score\n",
    "from sklearn.metrics import confusion_matrix, accuracy_score,classification_report\n",
    "from sklearn.model_selection import train_test_split\n",
    "from sklearn.metrics import mean_squared_error\n",
    "\n",
    "\n",
    "def preprocessing(i, j):\n",
    "    dataframes_list = []\n",
    "    for i in range(i, j+1):\n",
    "        #Preprocessing\n",
    "        from dateutil.parser import parse\n",
    "    \n",
    "        # Import as Dataframe\n",
    "        dataset = pd.read_csv(\"S\"+str(i)+\".csv\")\n",
    "\n",
    "        # get the number of missing data points per column\n",
    "        missing_values_count = dataset.isnull().sum()\n",
    "\n",
    "        #Remove rows with missing values\n",
    "        dataset = dataset.dropna()\n",
    "\n",
    "        dataset['Time'] = pd.to_datetime(dataset['Time'], infer_datetime_format = True)\n",
    "        indexed_dataset = dataset.set_index(['Time'])\n",
    "\n",
    "        y = indexed_dataset['HR']\n",
    "\n",
    "        #Feature Extraction\n",
    "        #Rolling features were used because it is a widely used method for time series data to smooth out short-term fluctuations \n",
    "        #and highlight trends in between a considered time period. \n",
    "\n",
    "        indexed_dataset['difference'] = indexed_dataset['HR'].diff()\n",
    "        \n",
    "        indexed_dataset['rollmean'] = indexed_dataset['HR'].rolling(window = 60, min_periods=1).mean()\n",
    "        \n",
    "        indexed_dataset['rollmedian'] = indexed_dataset['HR'].rolling(window = 60, min_periods=1).median()\n",
    "        \n",
    "        indexed_dataset['rollstd'] = indexed_dataset['HR'].rolling(window = 60, min_periods=1).std()\n",
    "        \n",
    "        indexed_dataset['rollMax'] = indexed_dataset['HR'].rolling(window = 60, min_periods=1).max()\n",
    "        \n",
    "        indexed_dataset['rollMin'] = indexed_dataset['HR'].rolling(window = 60, min_periods=1).min()\n",
    "        \n",
    "        indexed_dataset['range'] = indexed_dataset['rollMax'] - indexed_dataset['rollMin']\n",
    "\n",
    "        indexed_dataset = indexed_dataset.dropna()\n",
    "        \n",
    "        indexed_dataset.to_csv(\"SNew\"+str(i)+\".csv\", index = True)\n",
    "        \n",
    "\n",
    "        dataframes_list.append(indexed_dataset)\n",
    "            \n",
    "    return dataframes_list \n",
    "\n",
    "training_dataset = pd.concat(preprocessing(1, 15))\n",
    "training_dataset.to_csv(\"TrainingData_processed.csv\", index = True)\n",
    "\n",
    "test_dataset = pd.concat(preprocessing(16, 18))\n",
    "test_dataset.to_csv(\"TestData_All.csv\", index = True)\n",
    "\n",
    "training_dataset\n",
    "\n"
   ]
  },
  {
   "cell_type": "code",
   "execution_count": 2,
   "metadata": {},
   "outputs": [
    {
     "data": {
      "text/plain": [
       "(54699, 9)"
      ]
     },
     "execution_count": 2,
     "metadata": {},
     "output_type": "execute_result"
    }
   ],
   "source": [
    "training_dataset.shape"
   ]
  },
  {
   "cell_type": "markdown",
   "metadata": {},
   "source": [
    "## Data Analysis"
   ]
  },
  {
   "cell_type": "code",
   "execution_count": 78,
   "metadata": {},
   "outputs": [
    {
     "data": {
      "image/png": "[encoded data removed]",
      "text/plain": [
       "<Figure size 432x288 with 1 Axes>"
      ]
     },
     "metadata": {
      "needs_background": "light"
     },
     "output_type": "display_data"
    }
   ],
   "source": [
    "import matplotlib as mpl\n",
    "import matplotlib.pyplot as plt\n",
    "import seaborn as sns\n",
    "\n",
    "dataset = pd.read_csv('TrainingData_processed.csv')\n",
    "dataset['Time'] = pd.to_datetime(dataset['Time'], infer_datetime_format = True)\n",
    "\n",
    "# Create a scatter plot\n",
    "\n",
    "plt.scatter(dataset['Time'][dataset.Attentive == 'Yes'], dataset['HR'][dataset.Attentive == 'Yes'],\n",
    "            color='green', marker='x', label='Active')\n",
    "plt.scatter(dataset['Time'][dataset.Attentive == 'No'], dataset['HR'][dataset.Attentive == 'No'],\n",
    "            color='yellow', marker='+', label='Drowsy')\n",
    "plt.xlabel('Time')\n",
    "plt.ylabel('HR')\n",
    "plt.legend(loc='upper left')\n",
    "plt.show()"
   ]
  },
  {
   "cell_type": "markdown",
   "metadata": {},
   "source": [
    "## Feature selection"
   ]
  },
  {
   "cell_type": "code",
   "execution_count": 79,
   "metadata": {},
   "outputs": [
    {
     "name": "stdout",
     "output_type": "stream",
     "text": [
      "      Feature        Score\n",
      "4     rollstd  5051.578034\n",
      "7       range  4781.408190\n",
      "5     rollMax  4342.223347\n",
      "0          HR  3205.231128\n",
      "2    rollmean  1427.176837\n",
      "6     rollMin  1097.028310\n",
      "3  rollmedian  1025.335767\n",
      "1  difference    16.904383\n"
     ]
    }
   ],
   "source": [
    "from sklearn.feature_selection import SelectKBest\n",
    "from sklearn.feature_selection import f_classif\n",
    "\n",
    "X = training_dataset.iloc[:, [0, 2, 3, 4, 5, 6, 7, 8]].values\n",
    "y = training_dataset.iloc[:, 1].values\n",
    "\n",
    "X_train = X\n",
    "y_train = y\n",
    "\n",
    "X_test = test_dataset.iloc[:, [0, 2, 3, 4, 5, 6, 7, 8]].values\n",
    "y_test = test_dataset.iloc[:, 1].values\n",
    "\n",
    "#apply SelectKBest class to extract top 10 best features\n",
    "bestfeatures = SelectKBest(score_func=f_classif, k=7)\n",
    "fit = bestfeatures.fit(X,y)\n",
    "dfscores = pd.DataFrame(fit.scores_)\n",
    "index = ['HR', 'difference', 'rollmean', 'rollmedian', 'rollstd', 'rollMax', 'rollMin', 'range']\n",
    "dfcolumns = pd.DataFrame(index)\n",
    "\n",
    "#concat two dataframes for better visualization \n",
    "featureScores = pd.concat([dfcolumns,dfscores],axis=1)\n",
    "featureScores.columns = ['Feature','Score']  #naming the dataframe columns\n",
    "print(featureScores.nlargest(8,'Score'))  #print 10 best features\n"
   ]
  },
  {
   "cell_type": "markdown",
   "metadata": {},
   "source": [
    "## Building the model"
   ]
  },
  {
   "cell_type": "code",
   "execution_count": 3,
   "metadata": {},
   "outputs": [
    {
     "name": "stdout",
     "output_type": "stream",
     "text": [
      "[[81.         79.5        79.5        ... 81.         78.\n",
      "   3.        ]\n",
      " [84.         81.         81.         ... 84.         78.\n",
      "   6.        ]\n",
      " [90.         83.25       82.5        ... 90.         78.\n",
      "  12.        ]\n",
      " ...\n",
      " [86.         82.91666667 81.         ... 94.         74.\n",
      "  20.        ]\n",
      " [86.         82.9        81.         ... 94.         74.\n",
      "  20.        ]\n",
      " [85.         82.86666667 81.         ... 94.         74.\n",
      "  20.        ]]\n"
     ]
    }
   ],
   "source": [
    "X = training_dataset.iloc[:, [0, 3, 4, 5, 6, 7, 8]].values\n",
    "print(X)\n",
    "\n",
    "#X_train = X\n",
    "#y_train = y\n",
    "\n",
    "#X_test = test_dataset.iloc[:, [0, 2, 3, 4, 5, 6, 7]].values\n",
    "#y_test = test_dataset.iloc[:, 1].values"
   ]
  },
  {
   "cell_type": "code",
   "execution_count": 4,
   "metadata": {},
   "outputs": [
    {
     "name": "stdout",
     "output_type": "stream",
     "text": [
      "['Yes' 'Yes' 'Yes' ... 'Yes' 'Yes' 'Yes']\n"
     ]
    }
   ],
   "source": [
    "y = training_dataset.iloc[:, 1].values\n",
    "print(y)"
   ]
  },
  {
   "cell_type": "markdown",
   "metadata": {},
   "source": [
    "### Normalization"
   ]
  },
  {
   "cell_type": "code",
   "execution_count": 5,
   "metadata": {},
   "outputs": [
    {
     "name": "stdout",
     "output_type": "stream",
     "text": [
      "[[0.34033613 0.555685   0.55789474 ... 0.34033613 0.78       0.015     ]\n",
      " [0.35294118 0.56616962 0.56842105 ... 0.35294118 0.78       0.03      ]\n",
      " [0.37815126 0.58189655 0.57894737 ... 0.37815126 0.78       0.06      ]\n",
      " ...\n",
      " [0.36134454 0.57956664 0.56842105 ... 0.39495798 0.74       0.1       ]\n",
      " [0.36134454 0.57945014 0.56842105 ... 0.39495798 0.74       0.1       ]\n",
      " [0.35714286 0.57921715 0.56842105 ... 0.39495798 0.74       0.1       ]]\n"
     ]
    }
   ],
   "source": [
    "# data normalization with sklearn\n",
    "from sklearn.preprocessing import MinMaxScaler\n",
    "\n",
    "# fit scaler on training data\n",
    "norm = MinMaxScaler().fit(X)\n",
    "\n",
    "# transform training data\n",
    "X_normalized = norm.transform(X)\n",
    "print(X_normalized)"
   ]
  },
  {
   "cell_type": "markdown",
   "metadata": {},
   "source": [
    "## k-fold cross validation"
   ]
  },
  {
   "cell_type": "code",
   "execution_count": 71,
   "metadata": {},
   "outputs": [
    {
     "name": "stdout",
     "output_type": "stream",
     "text": [
      "[0.82888483 0.82367459 0.82934186 0.82212066 0.82822927]\n"
     ]
    },
    {
     "data": {
      "text/plain": [
       "0.8264502418513968"
      ]
     },
     "execution_count": 71,
     "metadata": {},
     "output_type": "execute_result"
    }
   ],
   "source": [
    "lr_accuracy = cross_val_score(LogisticRegression(solver='liblinear'), X_normalized, y)\n",
    "print(lr_accuracy)\n",
    "lr_accuracy.mean()"
   ]
  },
  {
   "cell_type": "code",
   "execution_count": 61,
   "metadata": {},
   "outputs": [
    {
     "name": "stdout",
     "output_type": "stream",
     "text": [
      "[0.83674589 0.83903108 0.84332724 0.82559415 0.84422708]\n"
     ]
    },
    {
     "data": {
      "text/plain": [
       "0.8377850864182346"
      ]
     },
     "execution_count": 61,
     "metadata": {},
     "output_type": "execute_result"
    }
   ],
   "source": [
    "svm_accuracy = cross_val_score(SVC(kernel = 'rbf', random_state = 0), X_normalized, y)\n",
    "print(svm_accuracy)\n",
    "svm_accuracy.mean()"
   ]
  },
  {
   "cell_type": "code",
   "execution_count": 20,
   "metadata": {},
   "outputs": [
    {
     "name": "stdout",
     "output_type": "stream",
     "text": [
      "[0.74259598 0.78583181 0.74314442 0.69689214 0.76122132]\n"
     ]
    },
    {
     "data": {
      "text/plain": [
       "0.7459371338449401"
      ]
     },
     "execution_count": 20,
     "metadata": {},
     "output_type": "execute_result"
    }
   ],
   "source": [
    "knn_accuracy = cross_val_score(KNeighborsClassifier(n_neighbors=3), X_normalized, y)\n",
    "print(knn_accuracy)\n",
    "knn_accuracy.mean()"
   ]
  },
  {
   "cell_type": "code",
   "execution_count": 21,
   "metadata": {},
   "outputs": [
    {
     "name": "stdout",
     "output_type": "stream",
     "text": [
      "[0.78747715 0.82212066 0.78583181 0.75329068 0.80939757]\n"
     ]
    },
    {
     "data": {
      "text/plain": [
       "0.7916235721676113"
      ]
     },
     "execution_count": 21,
     "metadata": {},
     "output_type": "execute_result"
    }
   ],
   "source": [
    "rf_accuracy = cross_val_score(RandomForestClassifier(n_estimators = 40), X_normalized, y)\n",
    "print(rf_accuracy)\n",
    "rf_accuracy.mean()"
   ]
  },
  {
   "cell_type": "markdown",
   "metadata": {},
   "source": [
    "### Split data into training and testing"
   ]
  },
  {
   "cell_type": "code",
   "execution_count": 6,
   "metadata": {},
   "outputs": [],
   "source": [
    "from sklearn.model_selection import train_test_split\n",
    "\n",
    "X_train, X_test, y_train, y_test = train_test_split(X_normalized, y, test_size = 0.25, random_state = 0)"
   ]
  },
  {
   "cell_type": "code",
   "execution_count": 34,
   "metadata": {},
   "outputs": [
    {
     "name": "stdout",
     "output_type": "stream",
     "text": [
      "Collecting mlxtend\n",
      "  Downloading mlxtend-0.19.0-py2.py3-none-any.whl (1.3 MB)\n",
      "Requirement already satisfied: scikit-learn>=0.20.3 in c:\\users\\hp\\anaconda3\\lib\\site-packages (from mlxtend) (0.23.2)\n",
      "Requirement already satisfied: setuptools in c:\\users\\hp\\anaconda3\\lib\\site-packages (from mlxtend) (50.3.1.post20201107)\n",
      "Requirement already satisfied: numpy>=1.16.2 in c:\\users\\hp\\anaconda3\\lib\\site-packages (from mlxtend) (1.19.2)\n",
      "Requirement already satisfied: pandas>=0.24.2 in c:\\users\\hp\\anaconda3\\lib\\site-packages (from mlxtend) (1.1.3)\n",
      "Requirement already satisfied: matplotlib>=3.0.0 in c:\\users\\hp\\anaconda3\\lib\\site-packages (from mlxtend) (3.3.2)\n",
      "Requirement already satisfied: scipy>=1.2.1 in c:\\users\\hp\\anaconda3\\lib\\site-packages (from mlxtend) (1.5.2)\n",
      "Requirement already satisfied: joblib>=0.13.2 in c:\\users\\hp\\anaconda3\\lib\\site-packages (from mlxtend) (0.17.0)\n",
      "Requirement already satisfied: threadpoolctl>=2.0.0 in c:\\users\\hp\\anaconda3\\lib\\site-packages (from scikit-learn>=0.20.3->mlxtend) (2.1.0)\n",
      "Requirement already satisfied: pytz>=2017.2 in c:\\users\\hp\\anaconda3\\lib\\site-packages (from pandas>=0.24.2->mlxtend) (2020.1)\n",
      "Requirement already satisfied: python-dateutil>=2.7.3 in c:\\users\\hp\\anaconda3\\lib\\site-packages (from pandas>=0.24.2->mlxtend) (2.8.1)\n",
      "Requirement already satisfied: certifi>=2020.06.20 in c:\\users\\hp\\anaconda3\\lib\\site-packages (from matplotlib>=3.0.0->mlxtend) (2020.6.20)\n",
      "Requirement already satisfied: pyparsing!=2.0.4,!=2.1.2,!=2.1.6,>=2.0.3 in c:\\users\\hp\\anaconda3\\lib\\site-packages (from matplotlib>=3.0.0->mlxtend) (2.4.7)\n",
      "Requirement already satisfied: kiwisolver>=1.0.1 in c:\\users\\hp\\anaconda3\\lib\\site-packages (from matplotlib>=3.0.0->mlxtend) (1.3.0)\n",
      "Requirement already satisfied: cycler>=0.10 in c:\\users\\hp\\anaconda3\\lib\\site-packages (from matplotlib>=3.0.0->mlxtend) (0.10.0)\n",
      "Requirement already satisfied: pillow>=6.2.0 in c:\\users\\hp\\anaconda3\\lib\\site-packages (from matplotlib>=3.0.0->mlxtend) (8.0.1)\n",
      "Requirement already satisfied: six>=1.5 in c:\\users\\hp\\anaconda3\\lib\\site-packages (from python-dateutil>=2.7.3->pandas>=0.24.2->mlxtend) (1.15.0)\n",
      "Installing collected packages: mlxtend\n",
      "Successfully installed mlxtend-0.19.0\n"
     ]
    }
   ],
   "source": [
    "!pip install mlxtend"
   ]
  },
  {
   "cell_type": "markdown",
   "metadata": {},
   "source": [
    "### Random Forest"
   ]
  },
  {
   "cell_type": "code",
   "execution_count": 84,
   "metadata": {},
   "outputs": [
    {
     "name": "stdout",
     "output_type": "stream",
     "text": [
      "[[ 1722     6   260]\n",
      " [    1   320    35]\n",
      " [  116    13 11202]]\n",
      "\n",
      "0.9684826325411334\n",
      "                precision    recall  f1-score   support\n",
      "\n",
      "            No       0.94      0.87      0.90      1988\n",
      "Not Applicable       0.94      0.90      0.92       356\n",
      "           Yes       0.97      0.99      0.98     11331\n",
      "\n",
      "      accuracy                           0.97     13675\n",
      "     macro avg       0.95      0.92      0.93     13675\n",
      "  weighted avg       0.97      0.97      0.97     13675\n",
      "\n",
      "['Yes' 'Yes' 'Yes' ... 'Yes' 'Yes' 'Yes']\n"
     ]
    }
   ],
   "source": [
    "# Random forest classifier\n",
    "import mlxtend \n",
    "from mlxtend.evaluate import bias_variance_decomp\n",
    "rf = RandomForestClassifier(n_estimators = 40)\n",
    "rf.fit(X_train, y_train)\n",
    "\n",
    "y_pred = rf.predict(X_test)\n",
    "\n",
    "cm = confusion_matrix(y_test, y_pred)\n",
    "print(cm)\n",
    "print()\n",
    "print(accuracy_score(y_test,y_pred))\n",
    "print(classification_report(y_test,y_pred))\n",
    "print(y_pred)\n"
   ]
  },
  {
   "cell_type": "markdown",
   "metadata": {},
   "source": [
    "### Logistic Regression"
   ]
  },
  {
   "cell_type": "code",
   "execution_count": 85,
   "metadata": {},
   "outputs": [
    {
     "name": "stdout",
     "output_type": "stream",
     "text": [
      "[[    0     3  1985]\n",
      " [   10    35   311]\n",
      " [    0    15 11316]]\n",
      "\n",
      "0.830054844606947\n",
      "                precision    recall  f1-score   support\n",
      "\n",
      "            No       0.00      0.00      0.00      1988\n",
      "Not Applicable       0.66      0.10      0.17       356\n",
      "           Yes       0.83      1.00      0.91     11331\n",
      "\n",
      "      accuracy                           0.83     13675\n",
      "     macro avg       0.50      0.37      0.36     13675\n",
      "  weighted avg       0.71      0.83      0.76     13675\n",
      "\n"
     ]
    }
   ],
   "source": [
    "lr = LogisticRegression(solver='liblinear')\n",
    "lr.fit(X_train, y_train)\n",
    "\n",
    "y_pred = lr.predict(X_test)\n",
    "\n",
    "cm = confusion_matrix(y_test, y_pred)\n",
    "print(cm)\n",
    "print()\n",
    "print(accuracy_score(y_test,y_pred))\n",
    "print(classification_report(y_test,y_pred))"
   ]
  },
  {
   "cell_type": "markdown",
   "metadata": {},
   "source": [
    "### KNN"
   ]
  },
  {
   "cell_type": "code",
   "execution_count": 86,
   "metadata": {},
   "outputs": [
    {
     "name": "stdout",
     "output_type": "stream",
     "text": [
      "[[ 1716     9   263]\n",
      " [   12   308    36]\n",
      " [  231    17 11083]]\n",
      "\n",
      "0.9584643510054844\n",
      "                precision    recall  f1-score   support\n",
      "\n",
      "            No       0.88      0.86      0.87      1988\n",
      "Not Applicable       0.92      0.87      0.89       356\n",
      "           Yes       0.97      0.98      0.98     11331\n",
      "\n",
      "      accuracy                           0.96     13675\n",
      "     macro avg       0.92      0.90      0.91     13675\n",
      "  weighted avg       0.96      0.96      0.96     13675\n",
      "\n"
     ]
    }
   ],
   "source": [
    "knn = KNeighborsClassifier(n_neighbors=3)\n",
    "knn.fit(X_train, y_train)\n",
    "\n",
    "y_pred = knn.predict(X_test)\n",
    "\n",
    "cm = confusion_matrix(y_test, y_pred)\n",
    "print(cm)\n",
    "print()\n",
    "print(accuracy_score(y_test,y_pred))\n",
    "print(classification_report(y_test,y_pred))"
   ]
  },
  {
   "cell_type": "markdown",
   "metadata": {},
   "source": [
    "### SVM"
   ]
  },
  {
   "cell_type": "code",
   "execution_count": 44,
   "metadata": {},
   "outputs": [
    {
     "name": "stdout",
     "output_type": "stream",
     "text": [
      "[[    0    14  1971]\n",
      " [    1   211   140]\n",
      " [    0    28 11311]]\n",
      "\n",
      "0.8424978063761334\n",
      "                precision    recall  f1-score   support\n",
      "\n",
      "            No       0.00      0.00      0.00      1985\n",
      "Not Applicable       0.83      0.60      0.70       352\n",
      "           Yes       0.84      1.00      0.91     11339\n",
      "\n",
      "      accuracy                           0.84     13676\n",
      "     macro avg       0.56      0.53      0.54     13676\n",
      "  weighted avg       0.72      0.84      0.78     13676\n",
      "\n"
     ]
    }
   ],
   "source": [
    "from sklearn.svm import SVC\n",
    "SVC = SVC(kernel = 'rbf')\n",
    "SVC.fit(X_train, y_train)\n",
    "\n",
    "y_pred = SVC.predict(X_test)\n",
    "\n",
    "cm = confusion_matrix(y_test, y_pred)\n",
    "print(cm)\n",
    "print()\n",
    "print(accuracy_score(y_test,y_pred))\n",
    "print(classification_report(y_test,y_pred))"
   ]
  },
  {
   "cell_type": "markdown",
   "metadata": {},
   "source": [
    "## Class Imbalance"
   ]
  },
  {
   "cell_type": "code",
   "execution_count": 7,
   "metadata": {},
   "outputs": [
    {
     "data": {
      "text/plain": [
       "Text(0, 0.5, 'Frequency')"
      ]
     },
     "execution_count": 7,
     "metadata": {},
     "output_type": "execute_result"
    },
    {
     "data": {
      "image/png": "[encoded data removed]",
      "text/plain": [
       "<Figure size 432x288 with 1 Axes>"
      ]
     },
     "metadata": {
      "needs_background": "light"
     },
     "output_type": "display_data"
    }
   ],
   "source": [
    "import matplotlib.pyplot as plt\n",
    "count_classes = pd.value_counts(y, sort = True)\n",
    "\n",
    "count_classes.plot(kind = 'bar', rot=0)\n",
    "\n",
    "plt.title(\"Distribution of y\")\n",
    "\n",
    "plt.xlabel(\"Class\")\n",
    "\n",
    "plt.ylabel(\"Frequency\")"
   ]
  },
  {
   "cell_type": "code",
   "execution_count": 8,
   "metadata": {},
   "outputs": [
    {
     "name": "stdout",
     "output_type": "stream",
     "text": [
      "Not drowsy: 82.71997659920657 %\n",
      "Drowsy: 14.621839521746285 %\n",
      "Not applicable data: 2.658183879047149 %\n"
     ]
    }
   ],
   "source": [
    "# class count\n",
    "class_count_yes, class_count_no, class_count_na = training_dataset['Attentive'].value_counts()\n",
    "\n",
    "# Separate class\n",
    "class_0 = training_dataset[training_dataset['Attentive'] == 'Yes']\n",
    "class_1 = training_dataset[training_dataset['Attentive'] == \"No\"]# print the shape of the class\n",
    "class_2 = training_dataset[training_dataset['Attentive'] == 'Not Applicable']\n",
    "\n",
    "print('Not drowsy:', class_0.shape[0]/(class_1.shape[0]+class_0.shape[0]+class_2.shape[0])*100,\"%\")\n",
    "print('Drowsy:', class_1.shape[0]/(class_1.shape[0]+class_0.shape[0]+class_2.shape[0])*100, \"%\")\n",
    "print('Not applicable data:', class_2.shape[0]/(class_1.shape[0]+class_0.shape[0]+class_2.shape[0])*100, \"%\")"
   ]
  },
  {
   "cell_type": "markdown",
   "metadata": {},
   "source": [
    "### SMOTE ENN"
   ]
  },
  {
   "cell_type": "code",
   "execution_count": 25,
   "metadata": {},
   "outputs": [
    {
     "name": "stdout",
     "output_type": "stream",
     "text": [
      "Collecting imbalanced-learn\n",
      "  Using cached imbalanced_learn-0.9.0-py3-none-any.whl (199 kB)\n",
      "Requirement already satisfied: joblib>=0.11 in c:\\users\\hp\\anaconda3\\lib\\site-packages (from imbalanced-learn) (0.17.0)\n",
      "Requirement already satisfied: threadpoolctl>=2.0.0 in c:\\users\\hp\\anaconda3\\lib\\site-packages (from imbalanced-learn) (2.1.0)\n",
      "Requirement already satisfied: scipy>=1.1.0 in c:\\users\\hp\\anaconda3\\lib\\site-packages (from imbalanced-learn) (1.5.2)\n",
      "Requirement already satisfied: scikit-learn>=1.0.1 in c:\\users\\hp\\anaconda3\\lib\\site-packages (from imbalanced-learn) (1.0.2)\n",
      "Requirement already satisfied: numpy>=1.14.6 in c:\\users\\hp\\anaconda3\\lib\\site-packages (from imbalanced-learn) (1.19.2)\n",
      "Installing collected packages: imbalanced-learn\n",
      "Successfully installed imbalanced-learn-0.9.0\n"
     ]
    }
   ],
   "source": [
    "!pip install imbalanced-learn"
   ]
  },
  {
   "cell_type": "code",
   "execution_count": 29,
   "metadata": {},
   "outputs": [
    {
     "name": "stdout",
     "output_type": "stream",
     "text": [
      "Requirement already satisfied: scikit-learn in c:\\users\\hp\\anaconda3\\lib\\site-packages (0.22.1)\n",
      "Requirement already satisfied: numpy>=1.11.0 in c:\\users\\hp\\anaconda3\\lib\\site-packages (from scikit-learn) (1.19.2)\n",
      "Requirement already satisfied: scipy>=0.17.0 in c:\\users\\hp\\anaconda3\\lib\\site-packages (from scikit-learn) (1.5.2)\n",
      "Requirement already satisfied: joblib>=0.11 in c:\\users\\hp\\anaconda3\\lib\\site-packages (from scikit-learn) (0.17.0)\n"
     ]
    }
   ],
   "source": [
    "!pip install scikit-learn"
   ]
  },
  {
   "cell_type": "code",
   "execution_count": 11,
   "metadata": {},
   "outputs": [
    {
     "name": "stdout",
     "output_type": "stream",
     "text": [
      "Collecting scikit-learn\n",
      "  Using cached scikit_learn-1.0.2-cp38-cp38-win_amd64.whl (7.2 MB)\n",
      "Requirement already satisfied, skipping upgrade: threadpoolctl>=2.0.0 in c:\\users\\hp\\anaconda3\\lib\\site-packages (from scikit-learn) (2.1.0)\n",
      "Requirement already satisfied, skipping upgrade: scipy>=1.1.0 in c:\\users\\hp\\anaconda3\\lib\\site-packages (from scikit-learn) (1.5.2)\n",
      "Requirement already satisfied, skipping upgrade: numpy>=1.14.6 in c:\\users\\hp\\anaconda3\\lib\\site-packages (from scikit-learn) (1.19.2)\n",
      "Requirement already satisfied, skipping upgrade: joblib>=0.11 in c:\\users\\hp\\anaconda3\\lib\\site-packages (from scikit-learn) (0.17.0)\n",
      "Installing collected packages: scikit-learn\n",
      "  Attempting uninstall: scikit-learn\n",
      "    Found existing installation: scikit-learn 0.22.1\n",
      "    Uninstalling scikit-learn-0.22.1:\n",
      "      Successfully uninstalled scikit-learn-0.22.1\n",
      "Note: you may need to restart the kernel to use updated packages.\n"
     ]
    },
    {
     "name": "stderr",
     "output_type": "stream",
     "text": [
      "ERROR: Could not install packages due to an EnvironmentError: [WinError 5] Access is denied: 'C:\\\\Users\\\\HP\\\\anaconda3\\\\Lib\\\\site-packages\\\\~~learn\\\\.libs\\\\vcomp140.dll'\n",
      "Consider using the `--user` option or check the permissions.\n",
      "\n"
     ]
    }
   ],
   "source": [
    "pip install --upgrade scikit-learn"
   ]
  },
  {
   "cell_type": "markdown",
   "metadata": {},
   "source": [
    "### Handling imbalanced dataset"
   ]
  },
  {
   "cell_type": "code",
   "execution_count": 9,
   "metadata": {},
   "outputs": [
    {
     "name": "stdout",
     "output_type": "stream",
     "text": [
      "Before Counter({'Yes': 33916, 'No': 6010, 'Not Applicable': 1098})\n",
      "After Counter({'Not Applicable': 33856, 'No': 33274, 'Yes': 31353})\n"
     ]
    }
   ],
   "source": [
    "from typing import Counter\n",
    "# import library\n",
    "from imblearn.combine import SMOTEENN\n",
    "counter = Counter(y_train)\n",
    "print('Before',counter)\n",
    "#oversampling the train dataset using SMOTE + ENN\n",
    "smenn = SMOTEENN()\n",
    "\n",
    "# fit predictor and target variable\n",
    "X_train_smenn, y_train_smenn = smenn.fit_resample(X_train, y_train)\n",
    "counter = Counter(y_train_smenn)\n",
    "print('After',counter)"
   ]
  },
  {
   "cell_type": "markdown",
   "metadata": {},
   "source": [
    "### After handling imbalanced dataset"
   ]
  },
  {
   "cell_type": "code",
   "execution_count": 10,
   "metadata": {},
   "outputs": [],
   "source": [
    "X_train = X_train_smenn\n",
    "y_train = y_train_smenn"
   ]
  },
  {
   "cell_type": "markdown",
   "metadata": {},
   "source": [
    "#### Random forest"
   ]
  },
  {
   "cell_type": "code",
   "execution_count": 91,
   "metadata": {},
   "outputs": [
    {
     "name": "stdout",
     "output_type": "stream",
     "text": [
      "[[ 1649    11   328]\n",
      " [    2   340    14]\n",
      " [  370    73 10888]]\n",
      "\n",
      "0.9416453382084095\n",
      "                precision    recall  f1-score   support\n",
      "\n",
      "            No       0.82      0.83      0.82      1988\n",
      "Not Applicable       0.80      0.96      0.87       356\n",
      "           Yes       0.97      0.96      0.97     11331\n",
      "\n",
      "      accuracy                           0.94     13675\n",
      "     macro avg       0.86      0.92      0.89     13675\n",
      "  weighted avg       0.94      0.94      0.94     13675\n",
      "\n",
      "['Yes' 'Yes' 'Yes' ... 'No' 'Yes' 'Yes']\n"
     ]
    }
   ],
   "source": [
    "# Random forest classifier\n",
    "import mlxtend \n",
    "from mlxtend.evaluate import bias_variance_decomp\n",
    "rf = RandomForestClassifier(n_estimators = 40)\n",
    "rf.fit(X_train, y_train)\n",
    "\n",
    "y_pred = rf.predict(X_test)\n",
    "\n",
    "cm = confusion_matrix(y_test, y_pred)\n",
    "print(cm)\n",
    "print()\n",
    "print(accuracy_score(y_test,y_pred))\n",
    "print(classification_report(y_test,y_pred))\n",
    "print(y_pred)\n"
   ]
  },
  {
   "cell_type": "markdown",
   "metadata": {},
   "source": [
    "#### logistic regression"
   ]
  },
  {
   "cell_type": "code",
   "execution_count": 92,
   "metadata": {},
   "outputs": [
    {
     "name": "stdout",
     "output_type": "stream",
     "text": [
      "[[1190  133  665]\n",
      " [  39  290   27]\n",
      " [3463 1320 6548]]\n",
      "\n",
      "0.5870566727605119\n",
      "                precision    recall  f1-score   support\n",
      "\n",
      "            No       0.25      0.60      0.36      1988\n",
      "Not Applicable       0.17      0.81      0.28       356\n",
      "           Yes       0.90      0.58      0.71     11331\n",
      "\n",
      "      accuracy                           0.59     13675\n",
      "     macro avg       0.44      0.66      0.45     13675\n",
      "  weighted avg       0.79      0.59      0.64     13675\n",
      "\n"
     ]
    }
   ],
   "source": [
    "lr = LogisticRegression(solver='liblinear')\n",
    "lr.fit(X_train, y_train)\n",
    "\n",
    "y_pred = lr.predict(X_test)\n",
    "\n",
    "cm = confusion_matrix(y_test, y_pred)\n",
    "print(cm)\n",
    "print()\n",
    "print(accuracy_score(y_test,y_pred))\n",
    "print(classification_report(y_test,y_pred))"
   ]
  },
  {
   "cell_type": "markdown",
   "metadata": {},
   "source": [
    "#### KNN"
   ]
  },
  {
   "cell_type": "code",
   "execution_count": 93,
   "metadata": {},
   "outputs": [
    {
     "name": "stdout",
     "output_type": "stream",
     "text": [
      "[[ 1660    10   318]\n",
      " [    4   343     9]\n",
      " [  725   101 10505]]\n",
      "\n",
      "0.9146617915904937\n",
      "                precision    recall  f1-score   support\n",
      "\n",
      "            No       0.69      0.84      0.76      1988\n",
      "Not Applicable       0.76      0.96      0.85       356\n",
      "           Yes       0.97      0.93      0.95     11331\n",
      "\n",
      "      accuracy                           0.91     13675\n",
      "     macro avg       0.81      0.91      0.85     13675\n",
      "  weighted avg       0.92      0.91      0.92     13675\n",
      "\n"
     ]
    }
   ],
   "source": [
    "knn = KNeighborsClassifier(n_neighbors=3)\n",
    "knn.fit(X_train, y_train)\n",
    "\n",
    "y_pred = knn.predict(X_test)\n",
    "\n",
    "cm = confusion_matrix(y_test, y_pred)\n",
    "print(cm)\n",
    "print()\n",
    "print(accuracy_score(y_test,y_pred))\n",
    "print(classification_report(y_test,y_pred))"
   ]
  },
  {
   "cell_type": "markdown",
   "metadata": {},
   "source": [
    "#### SVM with rbf kernal"
   ]
  },
  {
   "cell_type": "code",
   "execution_count": 52,
   "metadata": {},
   "outputs": [
    {
     "name": "stdout",
     "output_type": "stream",
     "text": [
      "[[1581   50  354]\n",
      " [   9  329   14]\n",
      " [4221  424 6694]]\n",
      "\n",
      "0.6291313249488154\n",
      "                precision    recall  f1-score   support\n",
      "\n",
      "            No       0.27      0.80      0.41      1985\n",
      "Not Applicable       0.41      0.93      0.57       352\n",
      "           Yes       0.95      0.59      0.73     11339\n",
      "\n",
      "      accuracy                           0.63     13676\n",
      "     macro avg       0.54      0.77      0.57     13676\n",
      "  weighted avg       0.84      0.63      0.68     13676\n",
      "\n"
     ]
    }
   ],
   "source": [
    "from sklearn.svm import SVC\n",
    "SVC = SVC(kernel = 'rbf')\n",
    "SVC.fit(X_train, y_train)\n",
    "\n",
    "y_pred = SVC.predict(X_test)\n",
    "\n",
    "cm = confusion_matrix(y_test, y_pred)\n",
    "print(cm)\n",
    "print()\n",
    "print(accuracy_score(y_test,y_pred))\n",
    "print(classification_report(y_test,y_pred))"
   ]
  },
  {
   "cell_type": "markdown",
   "metadata": {},
   "source": [
    "## Hyper Parameter Tuning"
   ]
  },
  {
   "cell_type": "markdown",
   "metadata": {},
   "source": [
    "### RandomizedSearchCV"
   ]
  },
  {
   "cell_type": "code",
   "execution_count": 94,
   "metadata": {},
   "outputs": [],
   "source": [
    "from sklearn import svm\n",
    "from sklearn.ensemble import RandomForestClassifier\n",
    "from sklearn.linear_model import LogisticRegression\n",
    "from sklearn.neighbors import KNeighborsClassifier\n",
    "\n",
    "model_params = {\n",
    "   \n",
    "    'random_forest': {\n",
    "        'model': RandomForestClassifier(),\n",
    "        'params' : {\n",
    "            'n_estimators': [200, 400, 600, 800, 1000],\n",
    "            'max_depth': [2, 4, 10, 20, 50],\n",
    "            'min_samples_split': [2, 5, 10, 14], \n",
    "            'criterion': ['entropy', 'gini']\n",
    "        }\n",
    "    }\n",
    "    \n",
    "}"
   ]
  },
  {
   "cell_type": "code",
   "execution_count": 95,
   "metadata": {},
   "outputs": [
    {
     "data": {
      "text/html": [
       "<div>\n",
       "<style scoped>\n",
       "    .dataframe tbody tr th:only-of-type {\n",
       "        vertical-align: middle;\n",
       "    }\n",
       "\n",
       "    .dataframe tbody tr th {\n",
       "        vertical-align: top;\n",
       "    }\n",
       "\n",
       "    .dataframe thead th {\n",
       "        text-align: right;\n",
       "    }\n",
       "</style>\n",
       "<table border=\"1\" class=\"dataframe\">\n",
       "  <thead>\n",
       "    <tr style=\"text-align: right;\">\n",
       "      <th></th>\n",
       "      <th>model</th>\n",
       "      <th>best_score</th>\n",
       "      <th>best_params</th>\n",
       "    </tr>\n",
       "  </thead>\n",
       "  <tbody>\n",
       "    <tr>\n",
       "      <th>0</th>\n",
       "      <td>random_forest</td>\n",
       "      <td>0.994082</td>\n",
       "      <td>{'n_estimators': 1000, 'min_samples_split': 2,...</td>\n",
       "    </tr>\n",
       "  </tbody>\n",
       "</table>\n",
       "</div>"
      ],
      "text/plain": [
       "           model  best_score  \\\n",
       "0  random_forest    0.994082   \n",
       "\n",
       "                                         best_params  \n",
       "0  {'n_estimators': 1000, 'min_samples_split': 2,...  "
      ]
     },
     "execution_count": 95,
     "metadata": {},
     "output_type": "execute_result"
    }
   ],
   "source": [
    "from sklearn.model_selection import RandomizedSearchCV\n",
    "scores = []\n",
    "\n",
    "for model_name, mp in model_params.items():\n",
    "    rscv =  RandomizedSearchCV(mp['model'], mp['params'], cv=3, return_train_score=False, n_iter=50)\n",
    "    rscv.fit(X_train, y_train)\n",
    "    scores.append({\n",
    "        'model': model_name,\n",
    "        'best_score': rscv.best_score_,\n",
    "        'best_params': rscv.best_params_\n",
    "    })\n",
    "    \n",
    "df2 = pd.DataFrame(scores,columns=['model','best_score','best_params'])\n",
    "df2"
   ]
  },
  {
   "cell_type": "code",
   "execution_count": 96,
   "metadata": {},
   "outputs": [
    {
     "name": "stderr",
     "output_type": "stream",
     "text": [
      "<ipython-input-96-be3b4cd8836d>:1: FutureWarning: Passing a negative integer is deprecated in version 1.0 and will not be supported in future version. Instead, use None to not limit the column width.\n",
      "  pd.set_option(\"display.max_colwidth\", -1)\n"
     ]
    },
    {
     "data": {
      "text/html": [
       "<div>\n",
       "<style scoped>\n",
       "    .dataframe tbody tr th:only-of-type {\n",
       "        vertical-align: middle;\n",
       "    }\n",
       "\n",
       "    .dataframe tbody tr th {\n",
       "        vertical-align: top;\n",
       "    }\n",
       "\n",
       "    .dataframe thead th {\n",
       "        text-align: right;\n",
       "    }\n",
       "</style>\n",
       "<table border=\"1\" class=\"dataframe\">\n",
       "  <thead>\n",
       "    <tr style=\"text-align: right;\">\n",
       "      <th></th>\n",
       "      <th>model</th>\n",
       "      <th>best_score</th>\n",
       "      <th>best_params</th>\n",
       "    </tr>\n",
       "  </thead>\n",
       "  <tbody>\n",
       "    <tr>\n",
       "      <th>0</th>\n",
       "      <td>random_forest</td>\n",
       "      <td>0.994082</td>\n",
       "      <td>{'n_estimators': 1000, 'min_samples_split': 2, 'max_depth': 50, 'criterion': 'entropy'}</td>\n",
       "    </tr>\n",
       "  </tbody>\n",
       "</table>\n",
       "</div>"
      ],
      "text/plain": [
       "           model  best_score  \\\n",
       "0  random_forest  0.994082     \n",
       "\n",
       "                                                                               best_params  \n",
       "0  {'n_estimators': 1000, 'min_samples_split': 2, 'max_depth': 50, 'criterion': 'entropy'}  "
      ]
     },
     "execution_count": 96,
     "metadata": {},
     "output_type": "execute_result"
    }
   ],
   "source": [
    "pd.set_option(\"display.max_colwidth\", -1)\n",
    "df2"
   ]
  },
  {
   "cell_type": "markdown",
   "metadata": {},
   "source": [
    "#### Test with Random forest (After tuning parameters with randomized search cv)"
   ]
  },
  {
   "cell_type": "code",
   "execution_count": 97,
   "metadata": {},
   "outputs": [
    {
     "name": "stdout",
     "output_type": "stream",
     "text": [
      "[[ 1647     9   332]\n",
      " [    2   341    13]\n",
      " [  352    74 10905]]\n",
      "Accuracy Score 0.9428153564899452\n",
      "Classification report:                 precision    recall  f1-score   support\n",
      "\n",
      "            No       0.82      0.83      0.83      1988\n",
      "Not Applicable       0.80      0.96      0.87       356\n",
      "           Yes       0.97      0.96      0.97     11331\n",
      "\n",
      "      accuracy                           0.94     13675\n",
      "     macro avg       0.87      0.92      0.89     13675\n",
      "  weighted avg       0.94      0.94      0.94     13675\n",
      "\n"
     ]
    }
   ],
   "source": [
    "from sklearn.ensemble import RandomForestClassifier\n",
    "\n",
    "#best_grid=clf.best_estimator_\n",
    "\n",
    "best_grid = RandomForestClassifier(n_estimators = 1000, min_samples_split = 2, max_depth = 50, criterion = 'entropy')\n",
    "best_grid.fit(X_train, y_train)\n",
    "\n",
    "y_pred=best_grid.predict(X_test)\n",
    "print(confusion_matrix(y_test,y_pred))\n",
    "print(\"Accuracy Score {}\".format(accuracy_score(y_test,y_pred)))\n",
    "print(\"Classification report: {}\".format(classification_report(y_test,y_pred)))"
   ]
  },
  {
   "cell_type": "markdown",
   "metadata": {},
   "source": [
    "### Grid Search CV"
   ]
  },
  {
   "cell_type": "code",
   "execution_count": 11,
   "metadata": {},
   "outputs": [],
   "source": [
    "model_params2 = {\n",
    "   \n",
    "    'random_forest': {\n",
    "        'model': RandomForestClassifier(),\n",
    "        'params' : {\n",
    "            'n_estimators': [600, 800, 1000],\n",
    "            'max_depth': [60, 80, 100, 120],\n",
    "            'min_samples_split': [2, 3, 4], \n",
    "            'criterion': ['entropy']\n",
    "        }\n",
    "    }\n",
    "    \n",
    "}"
   ]
  },
  {
   "cell_type": "code",
   "execution_count": 12,
   "metadata": {},
   "outputs": [
    {
     "name": "stdout",
     "output_type": "stream",
     "text": [
      "Fitting 3 folds for each of 36 candidates, totalling 108 fits\n"
     ]
    },
    {
     "name": "stderr",
     "output_type": "stream",
     "text": [
      "<ipython-input-12-038f93c1d242>:14: FutureWarning: Passing a negative integer is deprecated in version 1.0 and will not be supported in future version. Instead, use None to not limit the column width.\n",
      "  pd.set_option(\"display.max_colwidth\", -1)\n"
     ]
    },
    {
     "data": {
      "text/html": [
       "<div>\n",
       "<style scoped>\n",
       "    .dataframe tbody tr th:only-of-type {\n",
       "        vertical-align: middle;\n",
       "    }\n",
       "\n",
       "    .dataframe tbody tr th {\n",
       "        vertical-align: top;\n",
       "    }\n",
       "\n",
       "    .dataframe thead th {\n",
       "        text-align: right;\n",
       "    }\n",
       "</style>\n",
       "<table border=\"1\" class=\"dataframe\">\n",
       "  <thead>\n",
       "    <tr style=\"text-align: right;\">\n",
       "      <th></th>\n",
       "      <th>model</th>\n",
       "      <th>best_score</th>\n",
       "      <th>best_params</th>\n",
       "    </tr>\n",
       "  </thead>\n",
       "  <tbody>\n",
       "    <tr>\n",
       "      <th>0</th>\n",
       "      <td>random_forest</td>\n",
       "      <td>0.994629</td>\n",
       "      <td>{'criterion': 'entropy', 'max_depth': 100, 'min_samples_split': 2, 'n_estimators': 800}</td>\n",
       "    </tr>\n",
       "  </tbody>\n",
       "</table>\n",
       "</div>"
      ],
      "text/plain": [
       "           model  best_score  \\\n",
       "0  random_forest  0.994629     \n",
       "\n",
       "                                                                               best_params  \n",
       "0  {'criterion': 'entropy', 'max_depth': 100, 'min_samples_split': 2, 'n_estimators': 800}  "
      ]
     },
     "execution_count": 12,
     "metadata": {},
     "output_type": "execute_result"
    }
   ],
   "source": [
    "from sklearn.model_selection import GridSearchCV\n",
    "scores2 = []\n",
    "\n",
    "for model_name, mp in model_params2.items():\n",
    "    gscv =  GridSearchCV(mp['model'], mp['params'], cv=3, n_jobs = -1, verbose = 2, return_train_score=False)\n",
    "    gscv.fit(X_train, y_train)\n",
    "    scores2.append({\n",
    "        'model': model_name,\n",
    "        'best_score': gscv.best_score_,\n",
    "        'best_params': gscv.best_params_\n",
    "    })\n",
    "    \n",
    "df = pd.DataFrame(scores2,columns=['model','best_score','best_params'])\n",
    "pd.set_option(\"display.max_colwidth\", -1)\n",
    "df"
   ]
  },
  {
   "cell_type": "code",
   "execution_count": 13,
   "metadata": {},
   "outputs": [
    {
     "data": {
      "text/plain": [
       "RandomForestClassifier(criterion='entropy', max_depth=100, n_estimators=800)"
      ]
     },
     "execution_count": 13,
     "metadata": {},
     "output_type": "execute_result"
    }
   ],
   "source": [
    "gscv.best_estimator_"
   ]
  },
  {
   "cell_type": "markdown",
   "metadata": {},
   "source": [
    "#### Test with Random forest (After tuning parameters with grid search cv)"
   ]
  },
  {
   "cell_type": "code",
   "execution_count": 14,
   "metadata": {},
   "outputs": [
    {
     "name": "stdout",
     "output_type": "stream",
     "text": [
      "[[ 1839     9   140]\n",
      " [    2   342    12]\n",
      " [  394    74 10863]]\n",
      "Accuracy Score 0.9538574040219379\n",
      "Classification report:                 precision    recall  f1-score   support\n",
      "\n",
      "            No       0.82      0.93      0.87      1988\n",
      "Not Applicable       0.80      0.96      0.88       356\n",
      "           Yes       0.99      0.96      0.97     11331\n",
      "\n",
      "      accuracy                           0.95     13675\n",
      "     macro avg       0.87      0.95      0.91     13675\n",
      "  weighted avg       0.96      0.95      0.96     13675\n",
      "\n"
     ]
    }
   ],
   "source": [
    "from sklearn.ensemble import RandomForestClassifier\n",
    "best_grid1 = RandomForestClassifier(criterion='entropy', max_depth=100, n_estimators=800)\n",
    "best_grid1.fit(X_train, y_train)\n",
    "\n",
    "y_pred=best_grid1.predict(X_test)\n",
    "print(confusion_matrix(y_test,y_pred))\n",
    "print(\"Accuracy Score {}\".format(accuracy_score(y_test,y_pred)))\n",
    "print(\"Classification report: {}\".format(classification_report(y_test,y_pred)))"
   ]
  },
  {
   "cell_type": "markdown",
   "metadata": {},
   "source": [
    "## Write the model into a pickle file"
   ]
  },
  {
   "cell_type": "code",
   "execution_count": 15,
   "metadata": {},
   "outputs": [],
   "source": [
    "import pickle\n",
    "pickle.dump(best_grid1, open('modelofpulse.pkl', 'wb'))"
   ]
  },
  {
   "cell_type": "code",
   "execution_count": 28,
   "metadata": {},
   "outputs": [
    {
     "name": "stdout",
     "output_type": "stream",
     "text": [
      "16:15:21 0.0%\n",
      "16:17:21 33.06%\n",
      "16:19:21 0.0%\n",
      "16:21:21 0.0%\n",
      "16:23:21 0.0%\n",
      "16:25:21 0.0%\n",
      "16:27:21 0.0%\n",
      "16:29:21 0.0%\n",
      "16:31:21 0.0%\n",
      "16:33:21 8.26%\n",
      "16:35:21 0.0%\n",
      "16:37:21 0.0%\n",
      "16:39:21 41.32%\n",
      "16:41:21 0.0%\n",
      "16:43:21 0.0%\n",
      "16:45:21 0.0%\n",
      "16:47:21 0.0%\n",
      "16:49:21 24.79%\n",
      "16:51:21 8.26%\n",
      "16:53:21 0.0%\n",
      "16:55:21 8.26%\n",
      "16:57:21 33.33%\n",
      "16:59:21 49.59%\n",
      "17:01:21 0.0%\n",
      "17:03:21 0.0%\n",
      "17:05:21 0.0%\n",
      "17:07:21 0.0%\n",
      "17:09:21 0.0%\n",
      "17:11:21 0.0%\n",
      "17:13:21 8.26%\n"
     ]
    },
    {
     "data": {
      "text/html": [
       "<div>\n",
       "<style scoped>\n",
       "    .dataframe tbody tr th:only-of-type {\n",
       "        vertical-align: middle;\n",
       "    }\n",
       "\n",
       "    .dataframe tbody tr th {\n",
       "        vertical-align: top;\n",
       "    }\n",
       "\n",
       "    .dataframe thead th {\n",
       "        text-align: right;\n",
       "    }\n",
       "</style>\n",
       "<table border=\"1\" class=\"dataframe\">\n",
       "  <thead>\n",
       "    <tr style=\"text-align: right;\">\n",
       "      <th></th>\n",
       "      <th>Ending time</th>\n",
       "      <th>Predicted Drowsy Percentage(%)</th>\n",
       "    </tr>\n",
       "    <tr>\n",
       "      <th>Starting time</th>\n",
       "      <th></th>\n",
       "      <th></th>\n",
       "    </tr>\n",
       "  </thead>\n",
       "  <tbody>\n",
       "    <tr>\n",
       "      <th>16:15:21</th>\n",
       "      <td>16:17:21</td>\n",
       "      <td>0.00</td>\n",
       "    </tr>\n",
       "    <tr>\n",
       "      <th>16:17:21</th>\n",
       "      <td>16:19:21</td>\n",
       "      <td>33.06</td>\n",
       "    </tr>\n",
       "    <tr>\n",
       "      <th>16:19:21</th>\n",
       "      <td>16:21:21</td>\n",
       "      <td>0.00</td>\n",
       "    </tr>\n",
       "    <tr>\n",
       "      <th>16:21:21</th>\n",
       "      <td>16:23:21</td>\n",
       "      <td>0.00</td>\n",
       "    </tr>\n",
       "    <tr>\n",
       "      <th>16:23:21</th>\n",
       "      <td>16:25:21</td>\n",
       "      <td>0.00</td>\n",
       "    </tr>\n",
       "    <tr>\n",
       "      <th>16:25:21</th>\n",
       "      <td>16:27:21</td>\n",
       "      <td>0.00</td>\n",
       "    </tr>\n",
       "    <tr>\n",
       "      <th>16:27:21</th>\n",
       "      <td>16:29:21</td>\n",
       "      <td>0.00</td>\n",
       "    </tr>\n",
       "    <tr>\n",
       "      <th>16:29:21</th>\n",
       "      <td>16:31:21</td>\n",
       "      <td>0.00</td>\n",
       "    </tr>\n",
       "    <tr>\n",
       "      <th>16:31:21</th>\n",
       "      <td>16:33:21</td>\n",
       "      <td>0.00</td>\n",
       "    </tr>\n",
       "    <tr>\n",
       "      <th>16:33:21</th>\n",
       "      <td>16:35:21</td>\n",
       "      <td>8.26</td>\n",
       "    </tr>\n",
       "    <tr>\n",
       "      <th>16:35:21</th>\n",
       "      <td>16:37:21</td>\n",
       "      <td>0.00</td>\n",
       "    </tr>\n",
       "    <tr>\n",
       "      <th>16:37:21</th>\n",
       "      <td>16:39:21</td>\n",
       "      <td>0.00</td>\n",
       "    </tr>\n",
       "    <tr>\n",
       "      <th>16:39:21</th>\n",
       "      <td>16:41:21</td>\n",
       "      <td>41.32</td>\n",
       "    </tr>\n",
       "    <tr>\n",
       "      <th>16:41:21</th>\n",
       "      <td>16:43:21</td>\n",
       "      <td>0.00</td>\n",
       "    </tr>\n",
       "    <tr>\n",
       "      <th>16:43:21</th>\n",
       "      <td>16:45:21</td>\n",
       "      <td>0.00</td>\n",
       "    </tr>\n",
       "    <tr>\n",
       "      <th>16:45:21</th>\n",
       "      <td>16:47:21</td>\n",
       "      <td>0.00</td>\n",
       "    </tr>\n",
       "    <tr>\n",
       "      <th>16:47:21</th>\n",
       "      <td>16:49:21</td>\n",
       "      <td>0.00</td>\n",
       "    </tr>\n",
       "    <tr>\n",
       "      <th>16:49:21</th>\n",
       "      <td>16:51:21</td>\n",
       "      <td>24.79</td>\n",
       "    </tr>\n",
       "    <tr>\n",
       "      <th>16:51:21</th>\n",
       "      <td>16:53:21</td>\n",
       "      <td>8.26</td>\n",
       "    </tr>\n",
       "    <tr>\n",
       "      <th>16:53:21</th>\n",
       "      <td>16:55:21</td>\n",
       "      <td>0.00</td>\n",
       "    </tr>\n",
       "    <tr>\n",
       "      <th>16:55:21</th>\n",
       "      <td>16:57:21</td>\n",
       "      <td>8.26</td>\n",
       "    </tr>\n",
       "    <tr>\n",
       "      <th>16:57:21</th>\n",
       "      <td>16:59:21</td>\n",
       "      <td>33.33</td>\n",
       "    </tr>\n",
       "    <tr>\n",
       "      <th>16:59:21</th>\n",
       "      <td>17:01:21</td>\n",
       "      <td>49.59</td>\n",
       "    </tr>\n",
       "    <tr>\n",
       "      <th>17:01:21</th>\n",
       "      <td>17:03:21</td>\n",
       "      <td>0.00</td>\n",
       "    </tr>\n",
       "    <tr>\n",
       "      <th>17:03:21</th>\n",
       "      <td>17:05:21</td>\n",
       "      <td>0.00</td>\n",
       "    </tr>\n",
       "    <tr>\n",
       "      <th>17:05:21</th>\n",
       "      <td>17:07:21</td>\n",
       "      <td>0.00</td>\n",
       "    </tr>\n",
       "    <tr>\n",
       "      <th>17:07:21</th>\n",
       "      <td>17:09:21</td>\n",
       "      <td>0.00</td>\n",
       "    </tr>\n",
       "    <tr>\n",
       "      <th>17:09:21</th>\n",
       "      <td>17:11:21</td>\n",
       "      <td>0.00</td>\n",
       "    </tr>\n",
       "    <tr>\n",
       "      <th>17:11:21</th>\n",
       "      <td>17:13:21</td>\n",
       "      <td>0.00</td>\n",
       "    </tr>\n",
       "    <tr>\n",
       "      <th>17:13:21</th>\n",
       "      <td>17:15:21</td>\n",
       "      <td>8.26</td>\n",
       "    </tr>\n",
       "  </tbody>\n",
       "</table>\n",
       "</div>"
      ],
      "text/plain": [
       "              Ending time  Predicted Drowsy Percentage(%)\n",
       "Starting time                                            \n",
       "16:15:21       16:17:21    0.00                          \n",
       "16:17:21       16:19:21    33.06                         \n",
       "16:19:21       16:21:21    0.00                          \n",
       "16:21:21       16:23:21    0.00                          \n",
       "16:23:21       16:25:21    0.00                          \n",
       "16:25:21       16:27:21    0.00                          \n",
       "16:27:21       16:29:21    0.00                          \n",
       "16:29:21       16:31:21    0.00                          \n",
       "16:31:21       16:33:21    0.00                          \n",
       "16:33:21       16:35:21    8.26                          \n",
       "16:35:21       16:37:21    0.00                          \n",
       "16:37:21       16:39:21    0.00                          \n",
       "16:39:21       16:41:21    41.32                         \n",
       "16:41:21       16:43:21    0.00                          \n",
       "16:43:21       16:45:21    0.00                          \n",
       "16:45:21       16:47:21    0.00                          \n",
       "16:47:21       16:49:21    0.00                          \n",
       "16:49:21       16:51:21    24.79                         \n",
       "16:51:21       16:53:21    8.26                          \n",
       "16:53:21       16:55:21    0.00                          \n",
       "16:55:21       16:57:21    8.26                          \n",
       "16:57:21       16:59:21    33.33                         \n",
       "16:59:21       17:01:21    49.59                         \n",
       "17:01:21       17:03:21    0.00                          \n",
       "17:03:21       17:05:21    0.00                          \n",
       "17:05:21       17:07:21    0.00                          \n",
       "17:07:21       17:09:21    0.00                          \n",
       "17:09:21       17:11:21    0.00                          \n",
       "17:11:21       17:13:21    0.00                          \n",
       "17:13:21       17:15:21    8.26                          "
      ]
     },
     "execution_count": 28,
     "metadata": {},
     "output_type": "execute_result"
    }
   ],
   "source": [
    "import pandas as pd\n",
    "import numpy as np\n",
    "import seaborn as sns\n",
    "import pickle\n",
    "from dateutil.parser import parse\n",
    "import datetime as datetime\n",
    "from scipy import stats\n",
    "from sklearn.ensemble import RandomForestClassifier    \n",
    "from datetime import timedelta\n",
    "from sklearn.preprocessing import MinMaxScaler\n",
    "from typing import Counter\n",
    "from imblearn.combine import SMOTEENN\n",
    "    \n",
    "    \n",
    "#import test dataset\n",
    "test_dataset = pd.read_csv('S18.csv')\n",
    "    \n",
    "# Preprocessing Test dataset\n",
    "    \n",
    "# get the number of missing data points per column\n",
    "missing_values_count = test_dataset.isnull().sum()\n",
    "\n",
    "#Remove rows with missing values\n",
    "test_dataset = test_dataset.dropna()\n",
    "    \n",
    "test_dataset['Time'] = pd.to_datetime(test_dataset['Time'], infer_datetime_format = True)\n",
    "test_dataset = test_dataset.set_index(['Time'])\n",
    "    \n",
    "# Feature extraction from test data\n",
    "    \n",
    "test_dataset['dropValue'] = test_dataset['HR'].diff()\n",
    "        \n",
    "test_dataset['rollmean'] = test_dataset['HR'].rolling(window = 60, min_periods=1).mean()\n",
    "        \n",
    "test_dataset['rollmedian'] = test_dataset['HR'].rolling(window = 60, min_periods=1).median()\n",
    "        \n",
    "test_dataset['rollstd'] = test_dataset['HR'].rolling(window = 60, min_periods=1).std()\n",
    "        \n",
    "test_dataset['rollMax'] = test_dataset['HR'].rolling(window = 60, min_periods=1).max()\n",
    "        \n",
    "test_dataset['rollMin'] = test_dataset['HR'].rolling(window = 60, min_periods=1).min()\n",
    "\n",
    "test_dataset['range'] = test_dataset['rollMax'] - test_dataset['rollMin']\n",
    "\n",
    "test_dataset = test_dataset.dropna()\n",
    "test_dataset.to_csv(\"Test_dataset_processed.csv\", index = True)\n",
    "    \n",
    "test_df = pd.read_csv('Test_dataset_processed.csv')\n",
    "    \n",
    "test_df['Time'] = pd.to_datetime(test_df['Time'], infer_datetime_format = True)\n",
    "    \n",
    "# Get the model from pickle file\n",
    "pickled_model_pulse = pickle.load(open('modelofpulse.pkl', 'rb'))\n",
    "    \n",
    "# Predicting drowsy percentage for each 2 minutes   \n",
    "test_df['Time']=test_df['Time'].dt.time\n",
    "time1 = test_df.loc[0,'Time']\n",
    "rows=0\n",
    "    \n",
    "DrowsyPercentageList = []\n",
    "    \n",
    "while ((rows+120)<len(test_df.index)):\n",
    "    type(time1)\n",
    "    a_datetime = datetime.datetime.combine(datetime.date.today(), time1)\n",
    "\n",
    "    end_time = (a_datetime + timedelta(minutes = 2)).time()\n",
    "    Array=test_df.index[test_df['Time']==end_time].tolist()\n",
    "    rows=Array[0]\n",
    "    df=test_df.loc[(test_df['Time'] >= time1) & (test_df['Time'] <= end_time)]\n",
    "    df\n",
    "    X_testactual = df.iloc[:, [1, 4, 5, 6, 7, 8, 9]].values\n",
    "    # fit scaler on test data to normalize test data\n",
    "    norm1 = MinMaxScaler().fit(X_testactual)\n",
    "    # transform test data\n",
    "    X_testactual_norm = norm1.transform(X_testactual)\n",
    "    X_testactual_norm\n",
    "    arr=pickled_model_pulse.predict(X_testactual_norm)\n",
    "    arr2=df.iloc[:, 2].values\n",
    "    arr\n",
    "    count=0\n",
    "    count2=0\n",
    "    for label in arr:\n",
    "        if(label=='No'):\n",
    "            count = count+1\n",
    "    for label2 in arr2:\n",
    "        if(label2=='No'):\n",
    "            count2 = count2+1        \n",
    "        \n",
    "    PredictedDrowsyPercentage=round((count/len(arr)*1000), 2)\n",
    "    ActualDrowsyPercentage=round((count2/len(arr)*100), 2)\n",
    "    \n",
    "    DrowsyPercentageList.append({\n",
    "    'Starting time': time1,\n",
    "    'Ending time': end_time,\n",
    "    'Predicted Drowsy Percentage(%)': round(PredictedDrowsyPercentage, 2),\n",
    "    'Actual Drowsy Percentage': round(ActualDrowsyPercentage, 2),\n",
    "    })\n",
    "    print(str(time1) + \" \" + str(PredictedDrowsyPercentage) + \"%\")\n",
    "        \n",
    "    time1=end_time\n",
    "    \n",
    "df1 = pd.DataFrame(DrowsyPercentageList,columns=['Starting time','Ending time','Predicted Drowsy Percentage(%)'])\n",
    "df1 = df1.set_index(['Starting time'])\n",
    "    \n",
    "df1.to_csv(\"DrowsyPercentage_Pulsesensor.csv\", index = True)\n",
    "    \n",
    "df1\n",
    "\n",
    "#pickle.dump( DrowsyPercentageList, handle)\n",
    "\n",
    "   "
   ]
  },
  {
   "cell_type": "code",
   "execution_count": null,
   "metadata": {},
   "outputs": [],
   "source": []
  },
  {
   "cell_type": "code",
   "execution_count": null,
   "metadata": {},
   "outputs": [],
   "source": []
  },
  {
   "cell_type": "code",
   "execution_count": null,
   "metadata": {},
   "outputs": [],
   "source": []
  }
 ],
 "metadata": {
  "kernelspec": {
   "display_name": "Python 3",
   "language": "python",
   "name": "python3"
  },
  "language_info": {
   "codemirror_mode": {
    "name": "ipython",
    "version": 3
   },
   "file_extension": ".py",
   "mimetype": "text/x-python",
   "name": "python",
   "nbconvert_exporter": "python",
   "pygments_lexer": "ipython3",
   "version": "3.8.5"
  }
 },
 "nbformat": 4,
 "nbformat_minor": 4
}
